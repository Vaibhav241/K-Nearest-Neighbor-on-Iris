{
 "cells": [
  {
   "cell_type": "code",
   "execution_count": 2,
   "metadata": {},
   "outputs": [],
   "source": [
    "import numpy as np  \n",
    "import matplotlib.pyplot as plt  \n",
    "import pandas as pd  "
   ]
  },
  {
   "cell_type": "code",
   "execution_count": 3,
   "metadata": {},
   "outputs": [],
   "source": [
    "url = \"https://archive.ics.uci.edu/ml/machine-learning-databases/iris/iris.data\"\n",
    "\n",
    "# Assign colum names to the dataset\n",
    "names = ['sepal-length', 'sepal-width', 'petal-length', 'petal-width', 'Class']\n",
    "\n",
    "# Read dataset to pandas dataframe\n",
    "dataset = pd.read_csv(url, names=names)"
   ]
  },
  {
   "cell_type": "code",
   "execution_count": 4,
   "metadata": {},
   "outputs": [
    {
     "data": {
      "text/html": [
       "<div>\n",
       "<style scoped>\n",
       "    .dataframe tbody tr th:only-of-type {\n",
       "        vertical-align: middle;\n",
       "    }\n",
       "\n",
       "    .dataframe tbody tr th {\n",
       "        vertical-align: top;\n",
       "    }\n",
       "\n",
       "    .dataframe thead th {\n",
       "        text-align: right;\n",
       "    }\n",
       "</style>\n",
       "<table border=\"1\" class=\"dataframe\">\n",
       "  <thead>\n",
       "    <tr style=\"text-align: right;\">\n",
       "      <th></th>\n",
       "      <th>sepal-length</th>\n",
       "      <th>sepal-width</th>\n",
       "      <th>petal-length</th>\n",
       "      <th>petal-width</th>\n",
       "      <th>Class</th>\n",
       "    </tr>\n",
       "  </thead>\n",
       "  <tbody>\n",
       "    <tr>\n",
       "      <th>0</th>\n",
       "      <td>5.1</td>\n",
       "      <td>3.5</td>\n",
       "      <td>1.4</td>\n",
       "      <td>0.2</td>\n",
       "      <td>Iris-setosa</td>\n",
       "    </tr>\n",
       "    <tr>\n",
       "      <th>1</th>\n",
       "      <td>4.9</td>\n",
       "      <td>3.0</td>\n",
       "      <td>1.4</td>\n",
       "      <td>0.2</td>\n",
       "      <td>Iris-setosa</td>\n",
       "    </tr>\n",
       "    <tr>\n",
       "      <th>2</th>\n",
       "      <td>4.7</td>\n",
       "      <td>3.2</td>\n",
       "      <td>1.3</td>\n",
       "      <td>0.2</td>\n",
       "      <td>Iris-setosa</td>\n",
       "    </tr>\n",
       "    <tr>\n",
       "      <th>3</th>\n",
       "      <td>4.6</td>\n",
       "      <td>3.1</td>\n",
       "      <td>1.5</td>\n",
       "      <td>0.2</td>\n",
       "      <td>Iris-setosa</td>\n",
       "    </tr>\n",
       "    <tr>\n",
       "      <th>4</th>\n",
       "      <td>5.0</td>\n",
       "      <td>3.6</td>\n",
       "      <td>1.4</td>\n",
       "      <td>0.2</td>\n",
       "      <td>Iris-setosa</td>\n",
       "    </tr>\n",
       "  </tbody>\n",
       "</table>\n",
       "</div>"
      ],
      "text/plain": [
       "   sepal-length  sepal-width  petal-length  petal-width        Class\n",
       "0           5.1          3.5           1.4          0.2  Iris-setosa\n",
       "1           4.9          3.0           1.4          0.2  Iris-setosa\n",
       "2           4.7          3.2           1.3          0.2  Iris-setosa\n",
       "3           4.6          3.1           1.5          0.2  Iris-setosa\n",
       "4           5.0          3.6           1.4          0.2  Iris-setosa"
      ]
     },
     "execution_count": 4,
     "metadata": {},
     "output_type": "execute_result"
    }
   ],
   "source": [
    "dataset.head()  "
   ]
  },
  {
   "cell_type": "code",
   "execution_count": 5,
   "metadata": {},
   "outputs": [],
   "source": [
    "X = dataset.iloc[:, :-1].values  \n",
    "y = dataset.iloc[:, 4].values"
   ]
  },
  {
   "cell_type": "code",
   "execution_count": 6,
   "metadata": {},
   "outputs": [],
   "source": [
    "from sklearn.model_selection import train_test_split  \n",
    "X_train, X_test, y_train, y_test = train_test_split(X, y, test_size=0.20)  "
   ]
  },
  {
   "cell_type": "code",
   "execution_count": 7,
   "metadata": {},
   "outputs": [],
   "source": [
    "from sklearn.preprocessing import StandardScaler  \n",
    "scaler = StandardScaler()  \n",
    "scaler.fit(X_train)\n",
    "\n",
    "X_train = scaler.transform(X_train)  \n",
    "X_test = scaler.transform(X_test)  \n"
   ]
  },
  {
   "cell_type": "code",
   "execution_count": 8,
   "metadata": {},
   "outputs": [
    {
     "data": {
      "text/plain": [
       "29"
      ]
     },
     "execution_count": 8,
     "metadata": {},
     "output_type": "execute_result"
    }
   ],
   "source": [
    "#distance=[]\n",
    "length=len(X_test)-1\n",
    "length"
   ]
  },
  {
   "cell_type": "code",
   "execution_count": 54,
   "metadata": {},
   "outputs": [],
   "source": [
    "dist=[]\n",
    "for x in range(len(X_train)):\n",
    "    dist.append([])\n",
    "    for y in range(length):\n",
    "        distance=(X_train[x]-X_test[y])**2\n",
    "        dist[x].append(distance)"
   ]
  },
  {
   "cell_type": "code",
   "execution_count": 55,
   "metadata": {},
   "outputs": [
    {
     "data": {
      "text/plain": [
       "[array([0.38422295, 0.26356731, 0.62883343, 0.6031947 ]),\n",
       " array([0.        , 0.06589183, 0.028875  , 0.06702163]),\n",
       " array([6.14756723, 0.26356731, 5.93220924, 6.04870239]),\n",
       " array([2.59734715, 0.59302645, 2.16883367, 1.67554083]),\n",
       " array([0.38422295, 0.59302645, 0.08020835, 0.06702163]),\n",
       " array([0.13832026, 0.26356731, 0.        , 0.82101501]),\n",
       " array([3.01230794, 3.22869955, 5.13333412, 3.76996686]),\n",
       " array([0.06147567, 2.37210579, 0.38820839, 0.6031947 ]),\n",
       " array([3.01230794, 4.21707697, 1.41487522, 2.0274044 ]),\n",
       " array([ 0.75307699, 16.86830786,  5.39320916,  4.84231299]),\n",
       " array([3.45800657, 6.58918276, 0.20533336, 0.01675541]),\n",
       " array([0.01536892, 0.06589183, 0.15720836, 0.15079867]),\n",
       " array([1.24488236, 1.05426924, 1.03950016, 1.67554083]),\n",
       " array([ 2.2131242 , 11.13571886,  5.39320916,  6.70216331]),\n",
       " array([0.01536892, 0.26356731, 0.05133334, 0.01675541]),\n",
       " array([3.01230794, 4.21707697, 5.65950087, 6.04870239]),\n",
       " array([0.24590269, 0.06589183, 0.38820839, 0.6031947 ]),\n",
       " array([0.55328105, 9.48842317, 6.21133429, 6.04870239]),\n",
       " array([0.38422295, 1.05426924, 0.20533336, 0.15079867]),\n",
       " array([5.54817942, 1.64729569, 5.93220924, 5.42875228]),\n",
       " array([0.06147567, 0.06589183, 0.32083338, 1.07234613]),\n",
       " array([6.14756723, 1.05426924, 5.93220924, 6.04870239]),\n",
       " array([1.53689181, 5.33723803, 5.39320916, 6.04870239]),\n",
       " array([2.59734715, 0.26356731, 0.08020835, 0.06702163]),\n",
       " array([0.        , 0.59302645, 0.00320833, 0.15079867]),\n",
       " array([0.        , 1.05426924, 0.38820839, 0.6031947 ]),\n",
       " array([6.77769287, 0.26356731, 6.496876  , 6.70216331]),\n",
       " array([0.24590269, 2.37210579, 0.82133346, 2.0274044 ]),\n",
       " array([0.24590269, 0.        , 0.20533336, 0.82101501])]"
      ]
     },
     "execution_count": 55,
     "metadata": {},
     "output_type": "execute_result"
    }
   ],
   "source": [
    "dist[0]"
   ]
  },
  {
   "cell_type": "code",
   "execution_count": 56,
   "metadata": {},
   "outputs": [],
   "source": [
    "def sum_list(items):\n",
    "    sum_numbers = 0\n",
    "    for x in items:\n",
    "        sum_numbers += x\n",
    "    return sum_numbers"
   ]
  },
  {
   "cell_type": "code",
   "execution_count": 73,
   "metadata": {},
   "outputs": [],
   "source": [
    "distance=[]\n",
    "for x in range(29):\n",
    "    a=sum_list(dist[0][x])\n",
    "    a=a**(1/2)\n",
    "    distance.append(a)"
   ]
  },
  {
   "cell_type": "code",
   "execution_count": 74,
   "metadata": {},
   "outputs": [
    {
     "data": {
      "text/plain": [
       "[1.3710646920247191,\n",
       " 0.4022293687748481,\n",
       " 4.2885948944225065,\n",
       " 2.652309954644353,\n",
       " 1.06041472016685,\n",
       " 1.105849256620857,\n",
       " 3.891568896415322,\n",
       " 1.850671379793025,\n",
       " 3.2667513718174526,\n",
       " 5.277964285420721,\n",
       " 3.204571437391345,\n",
       " 0.6239132772727295,\n",
       " 2.2392392886485646,\n",
       " 5.044225959801522,\n",
       " 0.5890882598407019,\n",
       " 4.35173392590122,\n",
       " 1.141576807502913,\n",
       " 4.722471905168608,\n",
       " 1.3396358581285706,\n",
       " 4.307718263399983,\n",
       " 1.2331046232588652,\n",
       " 4.379811422819869,\n",
       " 4.279724452397,\n",
       " 1.7344003122217815,\n",
       " 0.8643109721239502,\n",
       " 1.430270020674615,\n",
       " 4.498922035921324,\n",
       " 2.338107427493649,\n",
       " 1.1279410708699489]"
      ]
     },
     "execution_count": 74,
     "metadata": {},
     "output_type": "execute_result"
    }
   ],
   "source": [
    "distance"
   ]
  },
  {
   "cell_type": "code",
   "execution_count": 75,
   "metadata": {},
   "outputs": [
    {
     "data": {
      "text/plain": [
       "[1.3710646920247191,\n",
       " 0.4022293687748481,\n",
       " 4.2885948944225065,\n",
       " 2.652309954644353,\n",
       " 1.06041472016685,\n",
       " 1.105849256620857,\n",
       " 3.891568896415322,\n",
       " 1.850671379793025,\n",
       " 3.2667513718174526,\n",
       " 5.277964285420721,\n",
       " 3.204571437391345,\n",
       " 0.6239132772727295,\n",
       " 2.2392392886485646,\n",
       " 5.044225959801522,\n",
       " 0.5890882598407019,\n",
       " 4.35173392590122,\n",
       " 1.141576807502913,\n",
       " 4.722471905168608,\n",
       " 1.3396358581285706,\n",
       " 4.307718263399983,\n",
       " 1.2331046232588652,\n",
       " 4.379811422819869,\n",
       " 4.279724452397,\n",
       " 1.7344003122217815,\n",
       " 0.8643109721239502,\n",
       " 1.430270020674615,\n",
       " 4.498922035921324,\n",
       " 2.338107427493649,\n",
       " 1.1279410708699489]"
      ]
     },
     "execution_count": 75,
     "metadata": {},
     "output_type": "execute_result"
    }
   ],
   "source": [
    "dictionary=[]\n",
    "for x in range (29):\n",
    "    dictionary.append(distance[x])\n",
    "#distance.sort()\n",
    "dictionary"
   ]
  },
  {
   "cell_type": "code",
   "execution_count": 76,
   "metadata": {},
   "outputs": [],
   "source": [
    "distance.sort()"
   ]
  },
  {
   "cell_type": "code",
   "execution_count": 77,
   "metadata": {},
   "outputs": [
    {
     "data": {
      "text/plain": [
       "[0.4022293687748481,\n",
       " 0.5890882598407019,\n",
       " 0.6239132772727295,\n",
       " 0.8643109721239502,\n",
       " 1.06041472016685,\n",
       " 1.105849256620857,\n",
       " 1.1279410708699489,\n",
       " 1.141576807502913,\n",
       " 1.2331046232588652,\n",
       " 1.3396358581285706,\n",
       " 1.3710646920247191,\n",
       " 1.430270020674615,\n",
       " 1.7344003122217815,\n",
       " 1.850671379793025,\n",
       " 2.2392392886485646,\n",
       " 2.338107427493649,\n",
       " 2.652309954644353,\n",
       " 3.204571437391345,\n",
       " 3.2667513718174526,\n",
       " 3.891568896415322,\n",
       " 4.279724452397,\n",
       " 4.2885948944225065,\n",
       " 4.307718263399983,\n",
       " 4.35173392590122,\n",
       " 4.379811422819869,\n",
       " 4.498922035921324,\n",
       " 4.722471905168608,\n",
       " 5.044225959801522,\n",
       " 5.277964285420721]"
      ]
     },
     "execution_count": 77,
     "metadata": {},
     "output_type": "execute_result"
    }
   ],
   "source": [
    "distance\n",
    "#k=input(\"Number of nearest neighbours\")''"
   ]
  },
  {
   "cell_type": "code",
   "execution_count": 78,
   "metadata": {},
   "outputs": [
    {
     "data": {
      "text/plain": [
       "[1.3710646920247191,\n",
       " 0.4022293687748481,\n",
       " 4.2885948944225065,\n",
       " 2.652309954644353,\n",
       " 1.06041472016685,\n",
       " 1.105849256620857,\n",
       " 3.891568896415322,\n",
       " 1.850671379793025,\n",
       " 3.2667513718174526,\n",
       " 5.277964285420721,\n",
       " 3.204571437391345,\n",
       " 0.6239132772727295,\n",
       " 2.2392392886485646,\n",
       " 5.044225959801522,\n",
       " 0.5890882598407019,\n",
       " 4.35173392590122,\n",
       " 1.141576807502913,\n",
       " 4.722471905168608,\n",
       " 1.3396358581285706,\n",
       " 4.307718263399983,\n",
       " 1.2331046232588652,\n",
       " 4.379811422819869,\n",
       " 4.279724452397,\n",
       " 1.7344003122217815,\n",
       " 0.8643109721239502,\n",
       " 1.430270020674615,\n",
       " 4.498922035921324,\n",
       " 2.338107427493649,\n",
       " 1.1279410708699489]"
      ]
     },
     "execution_count": 78,
     "metadata": {},
     "output_type": "execute_result"
    }
   ],
   "source": [
    "dictionary\n"
   ]
  },
  {
   "cell_type": "code",
   "execution_count": 83,
   "metadata": {},
   "outputs": [
    {
     "name": "stdout",
     "output_type": "stream",
     "text": [
      "The nearest item is at position 1\n",
      "The nearest item is at position 14\n"
     ]
    }
   ],
   "source": [
    "k=2#Number of nearest neighbours\n",
    "\n",
    "for x in range(k):\n",
    "    for y in range(29):\n",
    "        if(distance[x]==dictionary[y]):\n",
    "            print(\"The nearest item is at position\",y)"
   ]
  },
  {
   "cell_type": "code",
   "execution_count": null,
   "metadata": {},
   "outputs": [],
   "source": []
  }
 ],
 "metadata": {
  "kernelspec": {
   "display_name": "Python 3",
   "language": "python",
   "name": "python3"
  },
  "language_info": {
   "codemirror_mode": {
    "name": "ipython",
    "version": 3
   },
   "file_extension": ".py",
   "mimetype": "text/x-python",
   "name": "python",
   "nbconvert_exporter": "python",
   "pygments_lexer": "ipython3",
   "version": "3.7.0"
  }
 },
 "nbformat": 4,
 "nbformat_minor": 2
}
